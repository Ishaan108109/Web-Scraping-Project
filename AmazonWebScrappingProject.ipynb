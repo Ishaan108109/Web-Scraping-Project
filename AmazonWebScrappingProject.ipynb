{
 "cells": [
  {
   "cell_type": "code",
   "execution_count": 34,
   "id": "a2ae13cc",
   "metadata": {},
   "outputs": [],
   "source": [
    "from bs4 import BeautifulSoup\n",
    "import requests\n",
    "import time\n",
    "import datetime\n",
    "\n",
    "import smtplib"
   ]
  },
  {
   "cell_type": "code",
   "execution_count": 72,
   "id": "72a1b304",
   "metadata": {},
   "outputs": [
    {
     "name": "stdout",
     "output_type": "stream",
     "text": [
      "\n",
      "                   No I Will Not Fix Your Computer | Funny IT Geek Geeky for Men Women Nerd T-Shirt\n",
      "                  \n",
      "\n",
      "                     $17.95\n",
      "                    \n"
     ]
    }
   ],
   "source": [
    "#connecting to the website\n",
    "URL = 'https://www.amazon.com/dp/B07FK3LC2N/ref=sspa_dk_detail_0?psc=1&pd_rd_i=B07FK3LC2N&pd_rd_w=DEUnO&pf_rd_p=54ed5474-54a8-4c7f-a88a-45f748d18166&pd_rd_wg=LAM6l&pf_rd_r=X0WFH7XTD60DP7T28ERZ&pd_rd_r=9308cb92-0064-4cdb-b330-6d4f34669778&s=apparel&spLa=ZW5jcnlwdGVkUXVhbGlmaWVyPUExNFoyVENHQjZXOE9FJmVuY3J5cHRlZElkPUExMDQyMTEwM01JSU8wOFoyWTBLOSZlbmNyeXB0ZWRBZElkPUEwNDY0NTUyM0ExMTAxUk80N1RPWSZ3aWRnZXROYW1lPXNwX2RldGFpbF90aGVtYXRpYyZhY3Rpb249Y2xpY2tSZWRpcmVjdCZkb05vdExvZ0NsaWNrPXRydWU='\n",
    "headers = {\"User-Agent\": \"Mozilla/5.0 (Windows NT 10.0; Win64; x64) AppleWebKit/537.36 (KHTML, like Gecko) Chrome/97.0.4692.99 Safari/537.36\", \"Accept-Encoding\":\"gzip, deflate\", \"Accept\":\"text/html,application/xhtml+xml,application/xml;q=0.9,*/*;q=0.8\", \"DNT\":\"1\",\"Connection\":\"close\", \"Upgrade-Insecure-Requests\":\"1\"}\n",
    "page = requests.get(URL,headers=headers)\n",
    "soup1 = BeautifulSoup(page.content,\"html.parser\")\n",
    "\n",
    "soup2 = BeautifulSoup(soup1.prettify(),\"html.parser\")\n",
    "\n",
    "title = soup2.find(id='productTitle').get_text()\n",
    "\n",
    "\n",
    "price = soup2.find(\"span\",class_=\"a-offscreen\").get_text()\n",
    "print(title)\n",
    "print(price)\n"
   ]
  },
  {
   "cell_type": "code",
   "execution_count": 73,
   "id": "01e3c9e1",
   "metadata": {
    "scrolled": true
   },
   "outputs": [
    {
     "name": "stdout",
     "output_type": "stream",
     "text": [
      "Funny IT Geek Geeky for Men Women Nerd T-Shirt\n",
      "17.95\n"
     ]
    }
   ],
   "source": [
    "price = price.strip()[1:]\n",
    "title = title.strip()[34:]\n",
    "\n",
    "print(title)\n",
    "print(price)"
   ]
  },
  {
   "cell_type": "code",
   "execution_count": 74,
   "id": "f18083f5",
   "metadata": {},
   "outputs": [
    {
     "name": "stdout",
     "output_type": "stream",
     "text": [
      "2022-01-30\n"
     ]
    }
   ],
   "source": [
    "import datetime\n",
    "today=datetime.date.today()\n",
    "print (today)"
   ]
  },
  {
   "cell_type": "code",
   "execution_count": 75,
   "id": "c6145536",
   "metadata": {},
   "outputs": [],
   "source": [
    "import csv\n",
    "header = ['Title','Price','Date']\n",
    "data = [title, price,today]\n",
    "\n",
    "with open ('AmazonWebScraperDataset.csv','w',newline='',encoding='UTF8') as f:\n",
    "    writer = csv.writer(f)\n",
    "    writer.writerow(header)\n",
    "    writer.writerow(data)\n",
    "\n"
   ]
  },
  {
   "cell_type": "code",
   "execution_count": 76,
   "id": "eae1530e",
   "metadata": {},
   "outputs": [
    {
     "name": "stdout",
     "output_type": "stream",
     "text": [
      "                                            Title  Price        Date\n",
      "0  Funny IT Geek Geeky for Men Women Nerd T-Shirt  17.95  2022-01-30\n"
     ]
    }
   ],
   "source": [
    "import pandas as pd\n",
    "df = pd.read_csv(r'C:\\Users\\Ishaa\\AmazonWebScraperDataset.csv')\n",
    "print(df)"
   ]
  },
  {
   "cell_type": "code",
   "execution_count": 77,
   "id": "4fce7d4a",
   "metadata": {},
   "outputs": [],
   "source": [
    "#appending data to csv \n",
    "\n",
    "with open ('AmazonWebScraperDataset.csv','a+',newline='',encoding='UTF8') as f:\n",
    "    writer = csv.writer(f)\n",
    "    writer.writerow(data)\n"
   ]
  },
  {
   "cell_type": "code",
   "execution_count": 78,
   "id": "87931ff9",
   "metadata": {},
   "outputs": [],
   "source": [
    "def check_price():\n",
    "    URL = 'https://www.amazon.com/dp/B07FK3LC2N/ref=sspa_dk_detail_0?psc=1&pd_rd_i=B07FK3LC2N&pd_rd_w=DEUnO&pf_rd_p=54ed5474-54a8-4c7f-a88a-45f748d18166&pd_rd_wg=LAM6l&pf_rd_r=X0WFH7XTD60DP7T28ERZ&pd_rd_r=9308cb92-0064-4cdb-b330-6d4f34669778&s=apparel&spLa=ZW5jcnlwdGVkUXVhbGlmaWVyPUExNFoyVENHQjZXOE9FJmVuY3J5cHRlZElkPUExMDQyMTEwM01JSU8wOFoyWTBLOSZlbmNyeXB0ZWRBZElkPUEwNDY0NTUyM0ExMTAxUk80N1RPWSZ3aWRnZXROYW1lPXNwX2RldGFpbF90aGVtYXRpYyZhY3Rpb249Y2xpY2tSZWRpcmVjdCZkb05vdExvZ0NsaWNrPXRydWU='\n",
    "    headers = {\"User-Agent\": \"Mozilla/5.0 (Windows NT 10.0; Win64; x64) AppleWebKit/537.36 (KHTML, like Gecko) Chrome/97.0.4692.99 Safari/537.36\", \"Accept-Encoding\":\"gzip, deflate\", \"Accept\":\"text/html,application/xhtml+xml,application/xml;q=0.9,*/*;q=0.8\", \"DNT\":\"1\",\"Connection\":\"close\", \"Upgrade-Insecure-Requests\":\"1\"}\n",
    "    page = requests.get(URL,headers=headers)\n",
    "    soup1 = BeautifulSoup(page.content,\"html.parser\")\n",
    "\n",
    "    soup2 = BeautifulSoup(soup1.prettify(),\"html.parser\")\n",
    "\n",
    "    title = soup2.find(id='productTitle').get_text()\n",
    "\n",
    "\n",
    "    price = soup2.find(\"span\",class_=\"a-offscreen\").get_text()\n",
    "    \n",
    "    import datetime\n",
    "    today=datetime.date.today()\n",
    "    \n",
    "    import csv\n",
    "    header = ['Title','Price','Date']\n",
    "    data = [title, price,today]\n",
    "    \n",
    "    with open ('AmazonWebScraperDataset.csv','a+',newline='',encoding='UTF8') as f:\n",
    "        writer = csv.writer(f)\n",
    "        writer.writerow(data)\n"
   ]
  },
  {
   "cell_type": "code",
   "execution_count": null,
   "id": "cd633b1c",
   "metadata": {},
   "outputs": [],
   "source": [
    "while(True):\n",
    "    check_price()\n",
    "    time.sleep(86400)"
   ]
  },
  {
   "cell_type": "code",
   "execution_count": null,
   "id": "117372b6",
   "metadata": {},
   "outputs": [],
   "source": [
    "import pandas as pd\n",
    "df = pd.read_csv(r'C:\\Users\\Ishaa\\AmazonWebScraperDataset.csv')\n",
    "print(df)"
   ]
  },
  {
   "cell_type": "code",
   "execution_count": null,
   "id": "21a51044",
   "metadata": {},
   "outputs": [],
   "source": []
  }
 ],
 "metadata": {
  "kernelspec": {
   "display_name": "Python 3 (ipykernel)",
   "language": "python",
   "name": "python3"
  },
  "language_info": {
   "codemirror_mode": {
    "name": "ipython",
    "version": 3
   },
   "file_extension": ".py",
   "mimetype": "text/x-python",
   "name": "python",
   "nbconvert_exporter": "python",
   "pygments_lexer": "ipython3",
   "version": "3.9.7"
  }
 },
 "nbformat": 4,
 "nbformat_minor": 5
}
